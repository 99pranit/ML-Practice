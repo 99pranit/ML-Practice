{
 "cells": [
  {
   "cell_type": "markdown",
   "metadata": {},
   "source": [
    "### Import Libraries"
   ]
  },
  {
   "cell_type": "code",
   "execution_count": 35,
   "metadata": {},
   "outputs": [],
   "source": [
    "import pandas as pd\n",
    "import numpy as np\n",
    "import re\n",
    "import nltk\n",
    "import contractions\n",
    "from tensorflow.keras.preprocessing.text import Tokenizer\n",
    "from tensorflow.keras.preprocessing.sequence import pad_sequences\n",
    "from tensorflow.keras.models import Sequential\n",
    "from tensorflow.keras.layers import Embedding, LSTM, Dense, Dropout, Bidirectional, BatchNormalization\n",
    "from nltk.corpus import stopwords\n",
    "from nltk.tokenize import word_tokenize\n",
    "from nltk.stem import WordNetLemmatizer\n",
    "import numpy as np\n",
    "import matplotlib.pyplot as plt\n",
    "from sklearn.model_selection import train_test_split"
   ]
  },
  {
   "cell_type": "code",
   "execution_count": 2,
   "metadata": {},
   "outputs": [
    {
     "name": "stderr",
     "output_type": "stream",
     "text": [
      "[nltk_data] Downloading package punkt to /Users/pranitdas/nltk_data...\n",
      "[nltk_data]   Package punkt is already up-to-date!\n",
      "[nltk_data] Downloading package wordnet to\n",
      "[nltk_data]     /Users/pranitdas/nltk_data...\n",
      "[nltk_data]   Package wordnet is already up-to-date!\n",
      "[nltk_data] Downloading package omw-1.4 to\n",
      "[nltk_data]     /Users/pranitdas/nltk_data...\n",
      "[nltk_data]   Package omw-1.4 is already up-to-date!\n",
      "[nltk_data] Downloading package stopwords to\n",
      "[nltk_data]     /Users/pranitdas/nltk_data...\n",
      "[nltk_data]   Package stopwords is already up-to-date!\n"
     ]
    },
    {
     "data": {
      "text/plain": [
       "True"
      ]
     },
     "execution_count": 2,
     "metadata": {},
     "output_type": "execute_result"
    }
   ],
   "source": [
    "nltk.download(['punkt', 'wordnet', 'omw-1.4', 'stopwords'])"
   ]
  },
  {
   "cell_type": "code",
   "execution_count": 46,
   "metadata": {},
   "outputs": [],
   "source": [
    "lemmatizer = WordNetLemmatizer()\n",
    "stop_words = set(stopwords.words('english'))\n",
    "\n",
    "# Customize stopwords: Keep negation words for sentiment analysis\n",
    "negation_words = {'no', 'not', 'nor', 'never', 'none', 'nobody', 'nothing', \n",
    "                  'neither', 'nowhere', 'hardly', 'scarcely', 'barely', 'don', \"don't\"}\n",
    "\n",
    "stop_words = [word for word in stop_words if word not in negation_words]"
   ]
  },
  {
   "cell_type": "markdown",
   "metadata": {},
   "source": [
    "### Read Data"
   ]
  },
  {
   "cell_type": "code",
   "execution_count": 47,
   "metadata": {},
   "outputs": [],
   "source": [
    "df = pd.read_csv('Stock_senti.csv'  , encoding = \"ISO-8859-1\")"
   ]
  },
  {
   "cell_type": "code",
   "execution_count": 80,
   "metadata": {},
   "outputs": [
    {
     "data": {
      "text/plain": [
       "Label\n",
       "1    2166\n",
       "0    1935\n",
       "Name: count, dtype: int64"
      ]
     },
     "execution_count": 80,
     "metadata": {},
     "output_type": "execute_result"
    }
   ],
   "source": [
    "df['Label'].value_counts()"
   ]
  },
  {
   "cell_type": "code",
   "execution_count": 86,
   "metadata": {},
   "outputs": [],
   "source": [
    "text_columns = df.columns[2:27]\n",
    "label_column = df.columns[0:2]\n",
    "\n",
    "# Melt the DataFrame to reshape from wide to long\n",
    "long_df = df.melt(id_vars=label_column, value_vars=text_columns, \n",
    "                  var_name='feature', value_name='text')\n",
    "\n",
    "long_df = long_df.dropna()"
   ]
  },
  {
   "cell_type": "code",
   "execution_count": 87,
   "metadata": {},
   "outputs": [
    {
     "data": {
      "text/html": [
       "<div>\n",
       "<style scoped>\n",
       "    .dataframe tbody tr th:only-of-type {\n",
       "        vertical-align: middle;\n",
       "    }\n",
       "\n",
       "    .dataframe tbody tr th {\n",
       "        vertical-align: top;\n",
       "    }\n",
       "\n",
       "    .dataframe thead th {\n",
       "        text-align: right;\n",
       "    }\n",
       "</style>\n",
       "<table border=\"1\" class=\"dataframe\">\n",
       "  <thead>\n",
       "    <tr style=\"text-align: right;\">\n",
       "      <th></th>\n",
       "      <th>Date</th>\n",
       "      <th>Label</th>\n",
       "      <th>feature</th>\n",
       "      <th>text</th>\n",
       "    </tr>\n",
       "  </thead>\n",
       "  <tbody>\n",
       "    <tr>\n",
       "      <th>0</th>\n",
       "      <td>2000-01-03</td>\n",
       "      <td>0</td>\n",
       "      <td>Top1</td>\n",
       "      <td>A 'hindrance to operations': extracts from the...</td>\n",
       "    </tr>\n",
       "    <tr>\n",
       "      <th>1</th>\n",
       "      <td>2000-01-04</td>\n",
       "      <td>0</td>\n",
       "      <td>Top1</td>\n",
       "      <td>Scorecard</td>\n",
       "    </tr>\n",
       "    <tr>\n",
       "      <th>2</th>\n",
       "      <td>2000-01-05</td>\n",
       "      <td>0</td>\n",
       "      <td>Top1</td>\n",
       "      <td>Coventry caught on counter by Flo</td>\n",
       "    </tr>\n",
       "    <tr>\n",
       "      <th>3</th>\n",
       "      <td>2000-01-06</td>\n",
       "      <td>1</td>\n",
       "      <td>Top1</td>\n",
       "      <td>Pilgrim knows how to progress</td>\n",
       "    </tr>\n",
       "    <tr>\n",
       "      <th>4</th>\n",
       "      <td>2000-01-07</td>\n",
       "      <td>1</td>\n",
       "      <td>Top1</td>\n",
       "      <td>Hitches and Horlocks</td>\n",
       "    </tr>\n",
       "  </tbody>\n",
       "</table>\n",
       "</div>"
      ],
      "text/plain": [
       "         Date  Label feature  \\\n",
       "0  2000-01-03      0    Top1   \n",
       "1  2000-01-04      0    Top1   \n",
       "2  2000-01-05      0    Top1   \n",
       "3  2000-01-06      1    Top1   \n",
       "4  2000-01-07      1    Top1   \n",
       "\n",
       "                                                text  \n",
       "0  A 'hindrance to operations': extracts from the...  \n",
       "1                                          Scorecard  \n",
       "2                  Coventry caught on counter by Flo  \n",
       "3                      Pilgrim knows how to progress  \n",
       "4                               Hitches and Horlocks  "
      ]
     },
     "execution_count": 87,
     "metadata": {},
     "output_type": "execute_result"
    }
   ],
   "source": [
    "long_df.head()"
   ]
  },
  {
   "cell_type": "code",
   "execution_count": 69,
   "metadata": {},
   "outputs": [],
   "source": [
    "train , test = train_test_split(long_df , test_size= 0.2 , random_state= 32)"
   ]
  },
  {
   "cell_type": "code",
   "execution_count": 88,
   "metadata": {},
   "outputs": [],
   "source": [
    "train = long_df[long_df['Date'] < '20150101']\n",
    "test = long_df[long_df['Date'] > '20141231']"
   ]
  },
  {
   "cell_type": "markdown",
   "metadata": {},
   "source": [
    "### Preprocessing"
   ]
  },
  {
   "cell_type": "code",
   "execution_count": 61,
   "metadata": {},
   "outputs": [],
   "source": [
    "def preprocess_text(text):\n",
    "    \"\"\"Preprocess individual text\"\"\"\n",
    "    # Expand contractions\n",
    "    text = contractions.fix(text)\n",
    "    # Remove special characters/numbers\n",
    "    text = re.sub(r'[^a-zA-Z!?]', ' ', text)\n",
    "    # Tokenize\n",
    "    words = nltk.word_tokenize(text.lower())\n",
    "    # Remove stopwords\n",
    "    words = [word for word in words if word not in stop_words]\n",
    "    # Lemmatization\n",
    "    words = [lemmatizer.lemmatize(word, pos='v') for word in words]\n",
    "    return ' '.join(words)"
   ]
  },
  {
   "cell_type": "code",
   "execution_count": 89,
   "metadata": {},
   "outputs": [
    {
     "name": "stderr",
     "output_type": "stream",
     "text": [
      "/var/folders/4f/fqrnlkmx3jl8cj0wlvcm9rgw0000gn/T/ipykernel_1282/635080548.py:1: SettingWithCopyWarning: \n",
      "A value is trying to be set on a copy of a slice from a DataFrame.\n",
      "Try using .loc[row_indexer,col_indexer] = value instead\n",
      "\n",
      "See the caveats in the documentation: https://pandas.pydata.org/pandas-docs/stable/user_guide/indexing.html#returning-a-view-versus-a-copy\n",
      "  train['processed_text'] = train['text'].apply(preprocess_text)\n",
      "/var/folders/4f/fqrnlkmx3jl8cj0wlvcm9rgw0000gn/T/ipykernel_1282/635080548.py:2: SettingWithCopyWarning: \n",
      "A value is trying to be set on a copy of a slice from a DataFrame.\n",
      "Try using .loc[row_indexer,col_indexer] = value instead\n",
      "\n",
      "See the caveats in the documentation: https://pandas.pydata.org/pandas-docs/stable/user_guide/indexing.html#returning-a-view-versus-a-copy\n",
      "  test['processed_text'] = test['text'].apply(preprocess_text)\n"
     ]
    }
   ],
   "source": [
    "train['processed_text'] = train['text'].apply(preprocess_text)\n",
    "test['processed_text'] = test['text'].apply(preprocess_text)"
   ]
  },
  {
   "cell_type": "code",
   "execution_count": 91,
   "metadata": {},
   "outputs": [],
   "source": [
    "x_train , x_test = train['processed_text'] , test['processed_text']\n",
    "y_train , y_test = train['Label'] , test['Label']"
   ]
  },
  {
   "cell_type": "code",
   "execution_count": 92,
   "metadata": {},
   "outputs": [
    {
     "name": "stdout",
     "output_type": "stream",
     "text": [
      "vocab_size = 38316\n"
     ]
    }
   ],
   "source": [
    "'''Count vocabulary'''\n",
    "tokenizer = Tokenizer(oov_token=\"<OOV>\")\n",
    "tokenizer.fit_on_texts(x_train)\n",
    "\n",
    "word_counts = tokenizer.word_counts\n",
    "sorted_words = sorted(word_counts.items(), key=lambda x: x[1], reverse=True)\n",
    "\n",
    "print(f'vocab_size = {len(tokenizer.word_index) + 1}')\n",
    "vocab_size = 20000"
   ]
  },
  {
   "cell_type": "code",
   "execution_count": 93,
   "metadata": {},
   "outputs": [
    {
     "data": {
      "image/png": "[encoded data removed]",
      "text/plain": [
       "<Figure size 640x480 with 1 Axes>"
      ]
     },
     "metadata": {},
     "output_type": "display_data"
    },
    {
     "name": "stdout",
     "output_type": "stream",
     "text": [
      "Average length: 8.1\n",
      "95th percentile: 22.0\n"
     ]
    }
   ],
   "source": [
    "sequences = tokenizer.texts_to_sequences(x_train)\n",
    "sequence_lengths = [len(seq) for seq in sequences]\n",
    "\n",
    "plt.hist(sequence_lengths, bins=50)\n",
    "plt.title(\"Distribution of Sequence Lengths\")\n",
    "plt.show()\n",
    "\n",
    "print(f\"Average length: {np.mean(sequence_lengths):.1f}\")\n",
    "print(f\"95th percentile: {np.percentile(sequence_lengths, 95)}\")\n",
    "\n",
    "max_length = 22"
   ]
  },
  {
   "cell_type": "code",
   "execution_count": 94,
   "metadata": {},
   "outputs": [],
   "source": [
    "# Tokenization and padding\n",
    "tokenizer = Tokenizer(num_words= vocab_size, oov_token=\"<OOV>\")\n",
    "tokenizer.fit_on_texts(x_train)\n",
    "\n",
    "# Convert texts to sequences\n",
    "train_sequences = tokenizer.texts_to_sequences(x_train)\n",
    "test_sequences = tokenizer.texts_to_sequences(x_test)\n",
    "\n",
    "# Pad sequences to uniform length\n",
    "x_train_pad = pad_sequences(train_sequences, maxlen=max_length, padding='post', truncating='post')\n",
    "x_test_pad = pad_sequences(test_sequences, maxlen=max_length, padding='post', truncating='post')"
   ]
  },
  {
   "cell_type": "markdown",
   "metadata": {},
   "source": [
    "### Modelling"
   ]
  },
  {
   "cell_type": "code",
   "execution_count": 98,
   "metadata": {},
   "outputs": [
    {
     "data": {
      "text/html": [
       "<pre style=\"white-space:pre;overflow-x:auto;line-height:normal;font-family:Menlo,'DejaVu Sans Mono',consolas,'Courier New',monospace\"><span style=\"font-weight: bold\">Model: \"sequential_6\"</span>\n",
       "</pre>\n"
      ],
      "text/plain": [
       "\u001b[1mModel: \"sequential_6\"\u001b[0m\n"
      ]
     },
     "metadata": {},
     "output_type": "display_data"
    },
    {
     "data": {
      "text/html": [
       "<pre style=\"white-space:pre;overflow-x:auto;line-height:normal;font-family:Menlo,'DejaVu Sans Mono',consolas,'Courier New',monospace\">┏━━━━━━━━━━━━━━━━━━━━━━━━━━━━━━━━━┳━━━━━━━━━━━━━━━━━━━━━━━━┳━━━━━━━━━━━━━━━┓\n",
       "┃<span style=\"font-weight: bold\"> Layer (type)                    </span>┃<span style=\"font-weight: bold\"> Output Shape           </span>┃<span style=\"font-weight: bold\">       Param # </span>┃\n",
       "┡━━━━━━━━━━━━━━━━━━━━━━━━━━━━━━━━━╇━━━━━━━━━━━━━━━━━━━━━━━━╇━━━━━━━━━━━━━━━┩\n",
       "│ embedding_6 (<span style=\"color: #0087ff; text-decoration-color: #0087ff\">Embedding</span>)         │ (<span style=\"color: #00d7ff; text-decoration-color: #00d7ff\">None</span>, <span style=\"color: #00af00; text-decoration-color: #00af00\">22</span>, <span style=\"color: #00af00; text-decoration-color: #00af00\">64</span>)         │     <span style=\"color: #00af00; text-decoration-color: #00af00\">1,280,000</span> │\n",
       "├─────────────────────────────────┼────────────────────────┼───────────────┤\n",
       "│ bidirectional_12                │ (<span style=\"color: #00d7ff; text-decoration-color: #00d7ff\">None</span>, <span style=\"color: #00af00; text-decoration-color: #00af00\">22</span>, <span style=\"color: #00af00; text-decoration-color: #00af00\">64</span>)         │        <span style=\"color: #00af00; text-decoration-color: #00af00\">24,832</span> │\n",
       "│ (<span style=\"color: #0087ff; text-decoration-color: #0087ff\">Bidirectional</span>)                 │                        │               │\n",
       "├─────────────────────────────────┼────────────────────────┼───────────────┤\n",
       "│ dropout_12 (<span style=\"color: #0087ff; text-decoration-color: #0087ff\">Dropout</span>)            │ (<span style=\"color: #00d7ff; text-decoration-color: #00d7ff\">None</span>, <span style=\"color: #00af00; text-decoration-color: #00af00\">22</span>, <span style=\"color: #00af00; text-decoration-color: #00af00\">64</span>)         │             <span style=\"color: #00af00; text-decoration-color: #00af00\">0</span> │\n",
       "├─────────────────────────────────┼────────────────────────┼───────────────┤\n",
       "│ batch_normalization_10          │ (<span style=\"color: #00d7ff; text-decoration-color: #00d7ff\">None</span>, <span style=\"color: #00af00; text-decoration-color: #00af00\">22</span>, <span style=\"color: #00af00; text-decoration-color: #00af00\">64</span>)         │           <span style=\"color: #00af00; text-decoration-color: #00af00\">256</span> │\n",
       "│ (<span style=\"color: #0087ff; text-decoration-color: #0087ff\">BatchNormalization</span>)            │                        │               │\n",
       "├─────────────────────────────────┼────────────────────────┼───────────────┤\n",
       "│ bidirectional_13                │ (<span style=\"color: #00d7ff; text-decoration-color: #00d7ff\">None</span>, <span style=\"color: #00af00; text-decoration-color: #00af00\">32</span>)             │        <span style=\"color: #00af00; text-decoration-color: #00af00\">10,368</span> │\n",
       "│ (<span style=\"color: #0087ff; text-decoration-color: #0087ff\">Bidirectional</span>)                 │                        │               │\n",
       "├─────────────────────────────────┼────────────────────────┼───────────────┤\n",
       "│ batch_normalization_11          │ (<span style=\"color: #00d7ff; text-decoration-color: #00d7ff\">None</span>, <span style=\"color: #00af00; text-decoration-color: #00af00\">32</span>)             │           <span style=\"color: #00af00; text-decoration-color: #00af00\">128</span> │\n",
       "│ (<span style=\"color: #0087ff; text-decoration-color: #0087ff\">BatchNormalization</span>)            │                        │               │\n",
       "├─────────────────────────────────┼────────────────────────┼───────────────┤\n",
       "│ dense_12 (<span style=\"color: #0087ff; text-decoration-color: #0087ff\">Dense</span>)                │ (<span style=\"color: #00d7ff; text-decoration-color: #00d7ff\">None</span>, <span style=\"color: #00af00; text-decoration-color: #00af00\">16</span>)             │           <span style=\"color: #00af00; text-decoration-color: #00af00\">528</span> │\n",
       "├─────────────────────────────────┼────────────────────────┼───────────────┤\n",
       "│ dropout_13 (<span style=\"color: #0087ff; text-decoration-color: #0087ff\">Dropout</span>)            │ (<span style=\"color: #00d7ff; text-decoration-color: #00d7ff\">None</span>, <span style=\"color: #00af00; text-decoration-color: #00af00\">16</span>)             │             <span style=\"color: #00af00; text-decoration-color: #00af00\">0</span> │\n",
       "├─────────────────────────────────┼────────────────────────┼───────────────┤\n",
       "│ dense_13 (<span style=\"color: #0087ff; text-decoration-color: #0087ff\">Dense</span>)                │ (<span style=\"color: #00d7ff; text-decoration-color: #00d7ff\">None</span>, <span style=\"color: #00af00; text-decoration-color: #00af00\">1</span>)              │            <span style=\"color: #00af00; text-decoration-color: #00af00\">17</span> │\n",
       "└─────────────────────────────────┴────────────────────────┴───────────────┘\n",
       "</pre>\n"
      ],
      "text/plain": [
       "┏━━━━━━━━━━━━━━━━━━━━━━━━━━━━━━━━━┳━━━━━━━━━━━━━━━━━━━━━━━━┳━━━━━━━━━━━━━━━┓\n",
       "┃\u001b[1m \u001b[0m\u001b[1mLayer (type)                   \u001b[0m\u001b[1m \u001b[0m┃\u001b[1m \u001b[0m\u001b[1mOutput Shape          \u001b[0m\u001b[1m \u001b[0m┃\u001b[1m \u001b[0m\u001b[1m      Param #\u001b[0m\u001b[1m \u001b[0m┃\n",
       "┡━━━━━━━━━━━━━━━━━━━━━━━━━━━━━━━━━╇━━━━━━━━━━━━━━━━━━━━━━━━╇━━━━━━━━━━━━━━━┩\n",
       "│ embedding_6 (\u001b[38;5;33mEmbedding\u001b[0m)         │ (\u001b[38;5;45mNone\u001b[0m, \u001b[38;5;34m22\u001b[0m, \u001b[38;5;34m64\u001b[0m)         │     \u001b[38;5;34m1,280,000\u001b[0m │\n",
       "├─────────────────────────────────┼────────────────────────┼───────────────┤\n",
       "│ bidirectional_12                │ (\u001b[38;5;45mNone\u001b[0m, \u001b[38;5;34m22\u001b[0m, \u001b[38;5;34m64\u001b[0m)         │        \u001b[38;5;34m24,832\u001b[0m │\n",
       "│ (\u001b[38;5;33mBidirectional\u001b[0m)                 │                        │               │\n",
       "├─────────────────────────────────┼────────────────────────┼───────────────┤\n",
       "│ dropout_12 (\u001b[38;5;33mDropout\u001b[0m)            │ (\u001b[38;5;45mNone\u001b[0m, \u001b[38;5;34m22\u001b[0m, \u001b[38;5;34m64\u001b[0m)         │             \u001b[38;5;34m0\u001b[0m │\n",
       "├─────────────────────────────────┼────────────────────────┼───────────────┤\n",
       "│ batch_normalization_10          │ (\u001b[38;5;45mNone\u001b[0m, \u001b[38;5;34m22\u001b[0m, \u001b[38;5;34m64\u001b[0m)         │           \u001b[38;5;34m256\u001b[0m │\n",
       "│ (\u001b[38;5;33mBatchNormalization\u001b[0m)            │                        │               │\n",
       "├─────────────────────────────────┼────────────────────────┼───────────────┤\n",
       "│ bidirectional_13                │ (\u001b[38;5;45mNone\u001b[0m, \u001b[38;5;34m32\u001b[0m)             │        \u001b[38;5;34m10,368\u001b[0m │\n",
       "│ (\u001b[38;5;33mBidirectional\u001b[0m)                 │                        │               │\n",
       "├─────────────────────────────────┼────────────────────────┼───────────────┤\n",
       "│ batch_normalization_11          │ (\u001b[38;5;45mNone\u001b[0m, \u001b[38;5;34m32\u001b[0m)             │           \u001b[38;5;34m128\u001b[0m │\n",
       "│ (\u001b[38;5;33mBatchNormalization\u001b[0m)            │                        │               │\n",
       "├─────────────────────────────────┼────────────────────────┼───────────────┤\n",
       "│ dense_12 (\u001b[38;5;33mDense\u001b[0m)                │ (\u001b[38;5;45mNone\u001b[0m, \u001b[38;5;34m16\u001b[0m)             │           \u001b[38;5;34m528\u001b[0m │\n",
       "├─────────────────────────────────┼────────────────────────┼───────────────┤\n",
       "│ dropout_13 (\u001b[38;5;33mDropout\u001b[0m)            │ (\u001b[38;5;45mNone\u001b[0m, \u001b[38;5;34m16\u001b[0m)             │             \u001b[38;5;34m0\u001b[0m │\n",
       "├─────────────────────────────────┼────────────────────────┼───────────────┤\n",
       "│ dense_13 (\u001b[38;5;33mDense\u001b[0m)                │ (\u001b[38;5;45mNone\u001b[0m, \u001b[38;5;34m1\u001b[0m)              │            \u001b[38;5;34m17\u001b[0m │\n",
       "└─────────────────────────────────┴────────────────────────┴───────────────┘\n"
      ]
     },
     "metadata": {},
     "output_type": "display_data"
    },
    {
     "data": {
      "text/html": [
       "<pre style=\"white-space:pre;overflow-x:auto;line-height:normal;font-family:Menlo,'DejaVu Sans Mono',consolas,'Courier New',monospace\"><span style=\"font-weight: bold\"> Total params: </span><span style=\"color: #00af00; text-decoration-color: #00af00\">1,316,129</span> (5.02 MB)\n",
       "</pre>\n"
      ],
      "text/plain": [
       "\u001b[1m Total params: \u001b[0m\u001b[38;5;34m1,316,129\u001b[0m (5.02 MB)\n"
      ]
     },
     "metadata": {},
     "output_type": "display_data"
    },
    {
     "data": {
      "text/html": [
       "<pre style=\"white-space:pre;overflow-x:auto;line-height:normal;font-family:Menlo,'DejaVu Sans Mono',consolas,'Courier New',monospace\"><span style=\"font-weight: bold\"> Trainable params: </span><span style=\"color: #00af00; text-decoration-color: #00af00\">1,315,937</span> (5.02 MB)\n",
       "</pre>\n"
      ],
      "text/plain": [
       "\u001b[1m Trainable params: \u001b[0m\u001b[38;5;34m1,315,937\u001b[0m (5.02 MB)\n"
      ]
     },
     "metadata": {},
     "output_type": "display_data"
    },
    {
     "data": {
      "text/html": [
       "<pre style=\"white-space:pre;overflow-x:auto;line-height:normal;font-family:Menlo,'DejaVu Sans Mono',consolas,'Courier New',monospace\"><span style=\"font-weight: bold\"> Non-trainable params: </span><span style=\"color: #00af00; text-decoration-color: #00af00\">192</span> (768.00 B)\n",
       "</pre>\n"
      ],
      "text/plain": [
       "\u001b[1m Non-trainable params: \u001b[0m\u001b[38;5;34m192\u001b[0m (768.00 B)\n"
      ]
     },
     "metadata": {},
     "output_type": "display_data"
    }
   ],
   "source": [
    "model = Sequential([\n",
    "    Embedding(vocab_size, 64, input_length= max_length),\n",
    "    Bidirectional(LSTM(32, return_sequences=True, recurrent_dropout=0.1)),\n",
    "    Dropout(0.3),\n",
    "    BatchNormalization(),\n",
    "    Bidirectional(LSTM(16)),\n",
    "    BatchNormalization(),\n",
    "    Dense(16, activation='gelu'),\n",
    "    Dropout(0.2),\n",
    "    Dense(1, activation='sigmoid')\n",
    "])\n",
    "\n",
    "\n",
    "model.build(input_shape=(None, max_length))\n",
    "\n",
    "model.compile(loss='binary_crossentropy', optimizer='adam', metrics=['accuracy'])\n",
    "\n",
    "model.summary()"
   ]
  },
  {
   "cell_type": "code",
   "execution_count": 99,
   "metadata": {},
   "outputs": [
    {
     "name": "stdout",
     "output_type": "stream",
     "text": [
      "Epoch 1/100\n",
      "\u001b[1m3106/3106\u001b[0m \u001b[32m━━━━━━━━━━━━━━━━━━━━\u001b[0m\u001b[37m\u001b[0m \u001b[1m41s\u001b[0m 12ms/step - accuracy: 0.5121 - loss: 0.7080 - val_accuracy: 0.5083 - val_loss: 0.6942\n",
      "Epoch 2/100\n",
      "\u001b[1m3106/3106\u001b[0m \u001b[32m━━━━━━━━━━━━━━━━━━━━\u001b[0m\u001b[37m\u001b[0m \u001b[1m39s\u001b[0m 13ms/step - accuracy: 0.5277 - loss: 0.6916 - val_accuracy: 0.5426 - val_loss: 0.6881\n",
      "Epoch 3/100\n",
      "\u001b[1m3106/3106\u001b[0m \u001b[32m━━━━━━━━━━━━━━━━━━━━\u001b[0m\u001b[37m\u001b[0m \u001b[1m40s\u001b[0m 13ms/step - accuracy: 0.5750 - loss: 0.6765 - val_accuracy: 0.5926 - val_loss: 0.6690\n",
      "Epoch 4/100\n",
      "\u001b[1m3106/3106\u001b[0m \u001b[32m━━━━━━━━━━━━━━━━━━━━\u001b[0m\u001b[37m\u001b[0m \u001b[1m39s\u001b[0m 13ms/step - accuracy: 0.6422 - loss: 0.6328 - val_accuracy: 0.6311 - val_loss: 0.6382\n",
      "Epoch 5/100\n",
      "\u001b[1m3106/3106\u001b[0m \u001b[32m━━━━━━━━━━━━━━━━━━━━\u001b[0m\u001b[37m\u001b[0m \u001b[1m40s\u001b[0m 13ms/step - accuracy: 0.6876 - loss: 0.5792 - val_accuracy: 0.6685 - val_loss: 0.6072\n",
      "Epoch 6/100\n",
      "\u001b[1m3106/3106\u001b[0m \u001b[32m━━━━━━━━━━━━━━━━━━━━\u001b[0m\u001b[37m\u001b[0m \u001b[1m40s\u001b[0m 13ms/step - accuracy: 0.7351 - loss: 0.5160 - val_accuracy: 0.7020 - val_loss: 0.5778\n",
      "Epoch 7/100\n",
      "\u001b[1m3106/3106\u001b[0m \u001b[32m━━━━━━━━━━━━━━━━━━━━\u001b[0m\u001b[37m\u001b[0m \u001b[1m40s\u001b[0m 13ms/step - accuracy: 0.7654 - loss: 0.4581 - val_accuracy: 0.7249 - val_loss: 0.5665\n",
      "Epoch 8/100\n",
      "\u001b[1m3106/3106\u001b[0m \u001b[32m━━━━━━━━━━━━━━━━━━━━\u001b[0m\u001b[37m\u001b[0m \u001b[1m40s\u001b[0m 13ms/step - accuracy: 0.7918 - loss: 0.4113 - val_accuracy: 0.7441 - val_loss: 0.5738\n",
      "Epoch 9/100\n",
      "\u001b[1m3106/3106\u001b[0m \u001b[32m━━━━━━━━━━━━━━━━━━━━\u001b[0m\u001b[37m\u001b[0m \u001b[1m40s\u001b[0m 13ms/step - accuracy: 0.8089 - loss: 0.3751 - val_accuracy: 0.7576 - val_loss: 0.5894\n",
      "Epoch 10/100\n",
      "\u001b[1m3106/3106\u001b[0m \u001b[32m━━━━━━━━━━━━━━━━━━━━\u001b[0m\u001b[37m\u001b[0m \u001b[1m40s\u001b[0m 13ms/step - accuracy: 0.8241 - loss: 0.3449 - val_accuracy: 0.7603 - val_loss: 0.5834\n",
      "Epoch 11/100\n",
      "\u001b[1m3106/3106\u001b[0m \u001b[32m━━━━━━━━━━━━━━━━━━━━\u001b[0m\u001b[37m\u001b[0m \u001b[1m40s\u001b[0m 13ms/step - accuracy: 0.8377 - loss: 0.3206 - val_accuracy: 0.7714 - val_loss: 0.6041\n",
      "Epoch 12/100\n",
      "\u001b[1m3106/3106\u001b[0m \u001b[32m━━━━━━━━━━━━━━━━━━━━\u001b[0m\u001b[37m\u001b[0m \u001b[1m40s\u001b[0m 13ms/step - accuracy: 0.8504 - loss: 0.2942 - val_accuracy: 0.7822 - val_loss: 0.6191\n",
      "Epoch 13/100\n",
      "\u001b[1m3106/3106\u001b[0m \u001b[32m━━━━━━━━━━━━━━━━━━━━\u001b[0m\u001b[37m\u001b[0m \u001b[1m40s\u001b[0m 13ms/step - accuracy: 0.8583 - loss: 0.2779 - val_accuracy: 0.7866 - val_loss: 0.6666\n",
      "Epoch 14/100\n",
      "\u001b[1m3106/3106\u001b[0m \u001b[32m━━━━━━━━━━━━━━━━━━━━\u001b[0m\u001b[37m\u001b[0m \u001b[1m39s\u001b[0m 13ms/step - accuracy: 0.8700 - loss: 0.2600 - val_accuracy: 0.7897 - val_loss: 0.6640\n",
      "Epoch 15/100\n",
      "\u001b[1m3106/3106\u001b[0m \u001b[32m━━━━━━━━━━━━━━━━━━━━\u001b[0m\u001b[37m\u001b[0m \u001b[1m40s\u001b[0m 13ms/step - accuracy: 0.8807 - loss: 0.2433 - val_accuracy: 0.7964 - val_loss: 0.6982\n",
      "Epoch 16/100\n",
      "\u001b[1m3106/3106\u001b[0m \u001b[32m━━━━━━━━━━━━━━━━━━━━\u001b[0m\u001b[37m\u001b[0m \u001b[1m40s\u001b[0m 13ms/step - accuracy: 0.8860 - loss: 0.2294 - val_accuracy: 0.7992 - val_loss: 0.7246\n",
      "Epoch 17/100\n",
      "\u001b[1m3106/3106\u001b[0m \u001b[32m━━━━━━━━━━━━━━━━━━━━\u001b[0m\u001b[37m\u001b[0m \u001b[1m40s\u001b[0m 13ms/step - accuracy: 0.8911 - loss: 0.2209 - val_accuracy: 0.8074 - val_loss: 0.7585\n",
      "Epoch 18/100\n",
      "\u001b[1m3106/3106\u001b[0m \u001b[32m━━━━━━━━━━━━━━━━━━━━\u001b[0m\u001b[37m\u001b[0m \u001b[1m40s\u001b[0m 13ms/step - accuracy: 0.8990 - loss: 0.2068 - val_accuracy: 0.8083 - val_loss: 0.7545\n",
      "Epoch 19/100\n",
      "\u001b[1m3106/3106\u001b[0m \u001b[32m━━━━━━━━━━━━━━━━━━━━\u001b[0m\u001b[37m\u001b[0m \u001b[1m40s\u001b[0m 13ms/step - accuracy: 0.9003 - loss: 0.2006 - val_accuracy: 0.8087 - val_loss: 0.7530\n",
      "Epoch 20/100\n",
      "\u001b[1m3106/3106\u001b[0m \u001b[32m━━━━━━━━━━━━━━━━━━━━\u001b[0m\u001b[37m\u001b[0m \u001b[1m40s\u001b[0m 13ms/step - accuracy: 0.9089 - loss: 0.1892 - val_accuracy: 0.8132 - val_loss: 0.7930\n",
      "Epoch 21/100\n",
      "\u001b[1m3106/3106\u001b[0m \u001b[32m━━━━━━━━━━━━━━━━━━━━\u001b[0m\u001b[37m\u001b[0m \u001b[1m40s\u001b[0m 13ms/step - accuracy: 0.9112 - loss: 0.1833 - val_accuracy: 0.8196 - val_loss: 0.8150\n",
      "Epoch 22/100\n",
      "\u001b[1m3106/3106\u001b[0m \u001b[32m━━━━━━━━━━━━━━━━━━━━\u001b[0m\u001b[37m\u001b[0m \u001b[1m40s\u001b[0m 13ms/step - accuracy: 0.9184 - loss: 0.1729 - val_accuracy: 0.8189 - val_loss: 0.8767\n",
      "Epoch 23/100\n",
      "\u001b[1m3106/3106\u001b[0m \u001b[32m━━━━━━━━━━━━━━━━━━━━\u001b[0m\u001b[37m\u001b[0m \u001b[1m40s\u001b[0m 13ms/step - accuracy: 0.9220 - loss: 0.1642 - val_accuracy: 0.8211 - val_loss: 0.8207\n",
      "Epoch 24/100\n",
      "\u001b[1m3106/3106\u001b[0m \u001b[32m━━━━━━━━━━━━━━━━━━━━\u001b[0m\u001b[37m\u001b[0m \u001b[1m40s\u001b[0m 13ms/step - accuracy: 0.9223 - loss: 0.1625 - val_accuracy: 0.8236 - val_loss: 0.8802\n",
      "Epoch 25/100\n",
      "\u001b[1m3106/3106\u001b[0m \u001b[32m━━━━━━━━━━━━━━━━━━━━\u001b[0m\u001b[37m\u001b[0m \u001b[1m40s\u001b[0m 13ms/step - accuracy: 0.9256 - loss: 0.1554 - val_accuracy: 0.8229 - val_loss: 0.8872\n",
      "Epoch 26/100\n",
      "\u001b[1m3106/3106\u001b[0m \u001b[32m━━━━━━━━━━━━━━━━━━━━\u001b[0m\u001b[37m\u001b[0m \u001b[1m40s\u001b[0m 13ms/step - accuracy: 0.9275 - loss: 0.1518 - val_accuracy: 0.8261 - val_loss: 0.8469\n",
      "Epoch 27/100\n",
      "\u001b[1m3106/3106\u001b[0m \u001b[32m━━━━━━━━━━━━━━━━━━━━\u001b[0m\u001b[37m\u001b[0m \u001b[1m40s\u001b[0m 13ms/step - accuracy: 0.9287 - loss: 0.1488 - val_accuracy: 0.8261 - val_loss: 0.8627\n",
      "Epoch 28/100\n",
      "\u001b[1m3106/3106\u001b[0m \u001b[32m━━━━━━━━━━━━━━━━━━━━\u001b[0m\u001b[37m\u001b[0m \u001b[1m40s\u001b[0m 13ms/step - accuracy: 0.9343 - loss: 0.1416 - val_accuracy: 0.8268 - val_loss: 0.8958\n",
      "Epoch 29/100\n",
      "\u001b[1m3106/3106\u001b[0m \u001b[32m━━━━━━━━━━━━━━━━━━━━\u001b[0m\u001b[37m\u001b[0m \u001b[1m40s\u001b[0m 13ms/step - accuracy: 0.9351 - loss: 0.1365 - val_accuracy: 0.8294 - val_loss: 0.8961\n",
      "Epoch 30/100\n",
      "\u001b[1m3106/3106\u001b[0m \u001b[32m━━━━━━━━━━━━━━━━━━━━\u001b[0m\u001b[37m\u001b[0m \u001b[1m40s\u001b[0m 13ms/step - accuracy: 0.9385 - loss: 0.1330 - val_accuracy: 0.8306 - val_loss: 0.9318\n",
      "Epoch 31/100\n",
      "\u001b[1m3106/3106\u001b[0m \u001b[32m━━━━━━━━━━━━━━━━━━━━\u001b[0m\u001b[37m\u001b[0m \u001b[1m39s\u001b[0m 13ms/step - accuracy: 0.9380 - loss: 0.1308 - val_accuracy: 0.8303 - val_loss: 0.9549\n",
      "Epoch 32/100\n",
      "\u001b[1m3106/3106\u001b[0m \u001b[32m━━━━━━━━━━━━━━━━━━━━\u001b[0m\u001b[37m\u001b[0m \u001b[1m39s\u001b[0m 13ms/step - accuracy: 0.9408 - loss: 0.1258 - val_accuracy: 0.8309 - val_loss: 0.9508\n",
      "Epoch 33/100\n",
      "\u001b[1m3106/3106\u001b[0m \u001b[32m━━━━━━━━━━━━━━━━━━━━\u001b[0m\u001b[37m\u001b[0m \u001b[1m39s\u001b[0m 13ms/step - accuracy: 0.9398 - loss: 0.1264 - val_accuracy: 0.8294 - val_loss: 0.9369\n",
      "Epoch 34/100\n",
      "\u001b[1m3106/3106\u001b[0m \u001b[32m━━━━━━━━━━━━━━━━━━━━\u001b[0m\u001b[37m\u001b[0m \u001b[1m39s\u001b[0m 13ms/step - accuracy: 0.9449 - loss: 0.1191 - val_accuracy: 0.8294 - val_loss: 0.9607\n",
      "Epoch 35/100\n",
      "\u001b[1m3106/3106\u001b[0m \u001b[32m━━━━━━━━━━━━━━━━━━━━\u001b[0m\u001b[37m\u001b[0m \u001b[1m39s\u001b[0m 13ms/step - accuracy: 0.9468 - loss: 0.1142 - val_accuracy: 0.8322 - val_loss: 0.9401\n",
      "Epoch 36/100\n",
      "\u001b[1m3106/3106\u001b[0m \u001b[32m━━━━━━━━━━━━━━━━━━━━\u001b[0m\u001b[37m\u001b[0m \u001b[1m39s\u001b[0m 13ms/step - accuracy: 0.9472 - loss: 0.1119 - val_accuracy: 0.8313 - val_loss: 0.9758\n",
      "Epoch 37/100\n",
      "\u001b[1m3106/3106\u001b[0m \u001b[32m━━━━━━━━━━━━━━━━━━━━\u001b[0m\u001b[37m\u001b[0m \u001b[1m39s\u001b[0m 13ms/step - accuracy: 0.9476 - loss: 0.1118 - val_accuracy: 0.8334 - val_loss: 0.9975\n",
      "Epoch 38/100\n",
      "\u001b[1m3106/3106\u001b[0m \u001b[32m━━━━━━━━━━━━━━━━━━━━\u001b[0m\u001b[37m\u001b[0m \u001b[1m39s\u001b[0m 13ms/step - accuracy: 0.9497 - loss: 0.1086 - val_accuracy: 0.8357 - val_loss: 0.9982\n",
      "Epoch 39/100\n",
      "\u001b[1m3106/3106\u001b[0m \u001b[32m━━━━━━━━━━━━━━━━━━━━\u001b[0m\u001b[37m\u001b[0m \u001b[1m39s\u001b[0m 13ms/step - accuracy: 0.9493 - loss: 0.1079 - val_accuracy: 0.8345 - val_loss: 1.0524\n",
      "Epoch 40/100\n",
      "\u001b[1m3106/3106\u001b[0m \u001b[32m━━━━━━━━━━━━━━━━━━━━\u001b[0m\u001b[37m\u001b[0m \u001b[1m39s\u001b[0m 13ms/step - accuracy: 0.9518 - loss: 0.1057 - val_accuracy: 0.8324 - val_loss: 1.0146\n",
      "Epoch 41/100\n",
      "\u001b[1m3106/3106\u001b[0m \u001b[32m━━━━━━━━━━━━━━━━━━━━\u001b[0m\u001b[37m\u001b[0m \u001b[1m39s\u001b[0m 12ms/step - accuracy: 0.9532 - loss: 0.1014 - val_accuracy: 0.8308 - val_loss: 1.0314\n",
      "Epoch 42/100\n",
      "\u001b[1m3106/3106\u001b[0m \u001b[32m━━━━━━━━━━━━━━━━━━━━\u001b[0m\u001b[37m\u001b[0m \u001b[1m39s\u001b[0m 13ms/step - accuracy: 0.9550 - loss: 0.1000 - val_accuracy: 0.8342 - val_loss: 1.0564\n",
      "Epoch 43/100\n",
      "\u001b[1m3106/3106\u001b[0m \u001b[32m━━━━━━━━━━━━━━━━━━━━\u001b[0m\u001b[37m\u001b[0m \u001b[1m39s\u001b[0m 13ms/step - accuracy: 0.9544 - loss: 0.0980 - val_accuracy: 0.8321 - val_loss: 1.0546\n",
      "Epoch 44/100\n",
      "\u001b[1m3106/3106\u001b[0m \u001b[32m━━━━━━━━━━━━━━━━━━━━\u001b[0m\u001b[37m\u001b[0m \u001b[1m39s\u001b[0m 12ms/step - accuracy: 0.9557 - loss: 0.0950 - val_accuracy: 0.8366 - val_loss: 1.0692\n",
      "Epoch 45/100\n",
      "\u001b[1m3106/3106\u001b[0m \u001b[32m━━━━━━━━━━━━━━━━━━━━\u001b[0m\u001b[37m\u001b[0m \u001b[1m39s\u001b[0m 13ms/step - accuracy: 0.9557 - loss: 0.0944 - val_accuracy: 0.8328 - val_loss: 1.0669\n",
      "Epoch 46/100\n",
      "\u001b[1m3106/3106\u001b[0m \u001b[32m━━━━━━━━━━━━━━━━━━━━\u001b[0m\u001b[37m\u001b[0m \u001b[1m39s\u001b[0m 13ms/step - accuracy: 0.9578 - loss: 0.0926 - val_accuracy: 0.8345 - val_loss: 1.0871\n",
      "Epoch 47/100\n",
      "\u001b[1m3106/3106\u001b[0m \u001b[32m━━━━━━━━━━━━━━━━━━━━\u001b[0m\u001b[37m\u001b[0m \u001b[1m39s\u001b[0m 13ms/step - accuracy: 0.9582 - loss: 0.0930 - val_accuracy: 0.8352 - val_loss: 1.1394\n",
      "Epoch 48/100\n",
      "\u001b[1m3106/3106\u001b[0m \u001b[32m━━━━━━━━━━━━━━━━━━━━\u001b[0m\u001b[37m\u001b[0m \u001b[1m39s\u001b[0m 13ms/step - accuracy: 0.9579 - loss: 0.0905 - val_accuracy: 0.8335 - val_loss: 1.1135\n",
      "Epoch 49/100\n",
      "\u001b[1m3106/3106\u001b[0m \u001b[32m━━━━━━━━━━━━━━━━━━━━\u001b[0m\u001b[37m\u001b[0m \u001b[1m39s\u001b[0m 13ms/step - accuracy: 0.9593 - loss: 0.0890 - val_accuracy: 0.8329 - val_loss: 1.0925\n",
      "Epoch 50/100\n",
      "\u001b[1m3106/3106\u001b[0m \u001b[32m━━━━━━━━━━━━━━━━━━━━\u001b[0m\u001b[37m\u001b[0m \u001b[1m39s\u001b[0m 13ms/step - accuracy: 0.9593 - loss: 0.0882 - val_accuracy: 0.8352 - val_loss: 1.1231\n",
      "Epoch 51/100\n",
      "\u001b[1m3106/3106\u001b[0m \u001b[32m━━━━━━━━━━━━━━━━━━━━\u001b[0m\u001b[37m\u001b[0m \u001b[1m39s\u001b[0m 13ms/step - accuracy: 0.9612 - loss: 0.0850 - val_accuracy: 0.8319 - val_loss: 1.1160\n",
      "Epoch 52/100\n",
      "\u001b[1m3106/3106\u001b[0m \u001b[32m━━━━━━━━━━━━━━━━━━━━\u001b[0m\u001b[37m\u001b[0m \u001b[1m39s\u001b[0m 13ms/step - accuracy: 0.9599 - loss: 0.0871 - val_accuracy: 0.8323 - val_loss: 1.1174\n",
      "Epoch 53/100\n",
      "\u001b[1m3106/3106\u001b[0m \u001b[32m━━━━━━━━━━━━━━━━━━━━\u001b[0m\u001b[37m\u001b[0m \u001b[1m39s\u001b[0m 13ms/step - accuracy: 0.9622 - loss: 0.0815 - val_accuracy: 0.8304 - val_loss: 1.1787\n",
      "Epoch 54/100\n",
      "\u001b[1m3106/3106\u001b[0m \u001b[32m━━━━━━━━━━━━━━━━━━━━\u001b[0m\u001b[37m\u001b[0m \u001b[1m39s\u001b[0m 13ms/step - accuracy: 0.9623 - loss: 0.0824 - val_accuracy: 0.8341 - val_loss: 1.2230\n",
      "Epoch 55/100\n",
      "\u001b[1m3106/3106\u001b[0m \u001b[32m━━━━━━━━━━━━━━━━━━━━\u001b[0m\u001b[37m\u001b[0m \u001b[1m39s\u001b[0m 13ms/step - accuracy: 0.9629 - loss: 0.0800 - val_accuracy: 0.8340 - val_loss: 1.1873\n",
      "Epoch 56/100\n",
      "\u001b[1m3106/3106\u001b[0m \u001b[32m━━━━━━━━━━━━━━━━━━━━\u001b[0m\u001b[37m\u001b[0m \u001b[1m39s\u001b[0m 13ms/step - accuracy: 0.9627 - loss: 0.0805 - val_accuracy: 0.8360 - val_loss: 1.1061\n",
      "Epoch 57/100\n",
      "\u001b[1m3106/3106\u001b[0m \u001b[32m━━━━━━━━━━━━━━━━━━━━\u001b[0m\u001b[37m\u001b[0m \u001b[1m39s\u001b[0m 13ms/step - accuracy: 0.9634 - loss: 0.0805 - val_accuracy: 0.8350 - val_loss: 1.1215\n",
      "Epoch 58/100\n",
      "\u001b[1m3106/3106\u001b[0m \u001b[32m━━━━━━━━━━━━━━━━━━━━\u001b[0m\u001b[37m\u001b[0m \u001b[1m39s\u001b[0m 13ms/step - accuracy: 0.9632 - loss: 0.0786 - val_accuracy: 0.8337 - val_loss: 1.1245\n",
      "Epoch 59/100\n",
      "\u001b[1m3106/3106\u001b[0m \u001b[32m━━━━━━━━━━━━━━━━━━━━\u001b[0m\u001b[37m\u001b[0m \u001b[1m39s\u001b[0m 13ms/step - accuracy: 0.9637 - loss: 0.0780 - val_accuracy: 0.8343 - val_loss: 1.2282\n",
      "Epoch 60/100\n",
      "\u001b[1m3106/3106\u001b[0m \u001b[32m━━━━━━━━━━━━━━━━━━━━\u001b[0m\u001b[37m\u001b[0m \u001b[1m39s\u001b[0m 13ms/step - accuracy: 0.9644 - loss: 0.0763 - val_accuracy: 0.8351 - val_loss: 1.1654\n",
      "Epoch 61/100\n",
      "\u001b[1m3106/3106\u001b[0m \u001b[32m━━━━━━━━━━━━━━━━━━━━\u001b[0m\u001b[37m\u001b[0m \u001b[1m39s\u001b[0m 13ms/step - accuracy: 0.9636 - loss: 0.0777 - val_accuracy: 0.8324 - val_loss: 1.1484\n",
      "Epoch 62/100\n",
      "\u001b[1m3106/3106\u001b[0m \u001b[32m━━━━━━━━━━━━━━━━━━━━\u001b[0m\u001b[37m\u001b[0m \u001b[1m39s\u001b[0m 13ms/step - accuracy: 0.9650 - loss: 0.0767 - val_accuracy: 0.8322 - val_loss: 1.1231\n",
      "Epoch 63/100\n",
      "\u001b[1m3106/3106\u001b[0m \u001b[32m━━━━━━━━━━━━━━━━━━━━\u001b[0m\u001b[37m\u001b[0m \u001b[1m39s\u001b[0m 13ms/step - accuracy: 0.9652 - loss: 0.0765 - val_accuracy: 0.8329 - val_loss: 1.2138\n",
      "Epoch 64/100\n",
      "\u001b[1m3106/3106\u001b[0m \u001b[32m━━━━━━━━━━━━━━━━━━━━\u001b[0m\u001b[37m\u001b[0m \u001b[1m39s\u001b[0m 13ms/step - accuracy: 0.9658 - loss: 0.0739 - val_accuracy: 0.8306 - val_loss: 1.2177\n",
      "Epoch 65/100\n",
      "\u001b[1m3106/3106\u001b[0m \u001b[32m━━━━━━━━━━━━━━━━━━━━\u001b[0m\u001b[37m\u001b[0m \u001b[1m39s\u001b[0m 13ms/step - accuracy: 0.9663 - loss: 0.0725 - val_accuracy: 0.8319 - val_loss: 1.2461\n",
      "Epoch 66/100\n",
      "\u001b[1m3106/3106\u001b[0m \u001b[32m━━━━━━━━━━━━━━━━━━━━\u001b[0m\u001b[37m\u001b[0m \u001b[1m39s\u001b[0m 13ms/step - accuracy: 0.9664 - loss: 0.0730 - val_accuracy: 0.8326 - val_loss: 1.2214\n",
      "Epoch 67/100\n",
      "\u001b[1m3106/3106\u001b[0m \u001b[32m━━━━━━━━━━━━━━━━━━━━\u001b[0m\u001b[37m\u001b[0m \u001b[1m39s\u001b[0m 13ms/step - accuracy: 0.9661 - loss: 0.0736 - val_accuracy: 0.8312 - val_loss: 1.2315\n",
      "Epoch 68/100\n",
      "\u001b[1m3106/3106\u001b[0m \u001b[32m━━━━━━━━━━━━━━━━━━━━\u001b[0m\u001b[37m\u001b[0m \u001b[1m39s\u001b[0m 13ms/step - accuracy: 0.9662 - loss: 0.0727 - val_accuracy: 0.8298 - val_loss: 1.1398\n",
      "Epoch 69/100\n",
      "\u001b[1m3106/3106\u001b[0m \u001b[32m━━━━━━━━━━━━━━━━━━━━\u001b[0m\u001b[37m\u001b[0m \u001b[1m39s\u001b[0m 13ms/step - accuracy: 0.9665 - loss: 0.0728 - val_accuracy: 0.8314 - val_loss: 1.1497\n",
      "Epoch 70/100\n",
      "\u001b[1m3106/3106\u001b[0m \u001b[32m━━━━━━━━━━━━━━━━━━━━\u001b[0m\u001b[37m\u001b[0m \u001b[1m39s\u001b[0m 13ms/step - accuracy: 0.9678 - loss: 0.0697 - val_accuracy: 0.8297 - val_loss: 1.2518\n",
      "Epoch 71/100\n",
      "\u001b[1m3106/3106\u001b[0m \u001b[32m━━━━━━━━━━━━━━━━━━━━\u001b[0m\u001b[37m\u001b[0m \u001b[1m39s\u001b[0m 13ms/step - accuracy: 0.9685 - loss: 0.0684 - val_accuracy: 0.8306 - val_loss: 1.2531\n",
      "Epoch 72/100\n",
      "\u001b[1m3106/3106\u001b[0m \u001b[32m━━━━━━━━━━━━━━━━━━━━\u001b[0m\u001b[37m\u001b[0m \u001b[1m39s\u001b[0m 13ms/step - accuracy: 0.9668 - loss: 0.0715 - val_accuracy: 0.8306 - val_loss: 1.2074\n",
      "Epoch 73/100\n",
      "\u001b[1m3106/3106\u001b[0m \u001b[32m━━━━━━━━━━━━━━━━━━━━\u001b[0m\u001b[37m\u001b[0m \u001b[1m39s\u001b[0m 13ms/step - accuracy: 0.9681 - loss: 0.0683 - val_accuracy: 0.8327 - val_loss: 1.2174\n",
      "Epoch 74/100\n",
      "\u001b[1m3106/3106\u001b[0m \u001b[32m━━━━━━━━━━━━━━━━━━━━\u001b[0m\u001b[37m\u001b[0m \u001b[1m39s\u001b[0m 13ms/step - accuracy: 0.9678 - loss: 0.0700 - val_accuracy: 0.8323 - val_loss: 1.1533\n",
      "Epoch 75/100\n",
      "\u001b[1m3106/3106\u001b[0m \u001b[32m━━━━━━━━━━━━━━━━━━━━\u001b[0m\u001b[37m\u001b[0m \u001b[1m39s\u001b[0m 13ms/step - accuracy: 0.9686 - loss: 0.0676 - val_accuracy: 0.8309 - val_loss: 1.1972\n",
      "Epoch 76/100\n",
      "\u001b[1m3106/3106\u001b[0m \u001b[32m━━━━━━━━━━━━━━━━━━━━\u001b[0m\u001b[37m\u001b[0m \u001b[1m39s\u001b[0m 13ms/step - accuracy: 0.9692 - loss: 0.0654 - val_accuracy: 0.8331 - val_loss: 1.2553\n",
      "Epoch 77/100\n",
      "\u001b[1m3106/3106\u001b[0m \u001b[32m━━━━━━━━━━━━━━━━━━━━\u001b[0m\u001b[37m\u001b[0m \u001b[1m39s\u001b[0m 13ms/step - accuracy: 0.9686 - loss: 0.0688 - val_accuracy: 0.8345 - val_loss: 1.1554\n",
      "Epoch 78/100\n",
      "\u001b[1m3106/3106\u001b[0m \u001b[32m━━━━━━━━━━━━━━━━━━━━\u001b[0m\u001b[37m\u001b[0m \u001b[1m40s\u001b[0m 13ms/step - accuracy: 0.9700 - loss: 0.0642 - val_accuracy: 0.8324 - val_loss: 1.1886\n",
      "Epoch 79/100\n",
      "\u001b[1m3106/3106\u001b[0m \u001b[32m━━━━━━━━━━━━━━━━━━━━\u001b[0m\u001b[37m\u001b[0m \u001b[1m39s\u001b[0m 13ms/step - accuracy: 0.9701 - loss: 0.0647 - val_accuracy: 0.8334 - val_loss: 1.2537\n",
      "Epoch 80/100\n",
      "\u001b[1m3106/3106\u001b[0m \u001b[32m━━━━━━━━━━━━━━━━━━━━\u001b[0m\u001b[37m\u001b[0m \u001b[1m39s\u001b[0m 13ms/step - accuracy: 0.9698 - loss: 0.0659 - val_accuracy: 0.8353 - val_loss: 1.2369\n",
      "Epoch 81/100\n",
      "\u001b[1m3106/3106\u001b[0m \u001b[32m━━━━━━━━━━━━━━━━━━━━\u001b[0m\u001b[37m\u001b[0m \u001b[1m39s\u001b[0m 13ms/step - accuracy: 0.9693 - loss: 0.0647 - val_accuracy: 0.8327 - val_loss: 1.1032\n",
      "Epoch 82/100\n",
      "\u001b[1m3106/3106\u001b[0m \u001b[32m━━━━━━━━━━━━━━━━━━━━\u001b[0m\u001b[37m\u001b[0m \u001b[1m39s\u001b[0m 13ms/step - accuracy: 0.9701 - loss: 0.0653 - val_accuracy: 0.8345 - val_loss: 1.1868\n",
      "Epoch 83/100\n",
      "\u001b[1m3106/3106\u001b[0m \u001b[32m━━━━━━━━━━━━━━━━━━━━\u001b[0m\u001b[37m\u001b[0m \u001b[1m40s\u001b[0m 13ms/step - accuracy: 0.9693 - loss: 0.0650 - val_accuracy: 0.8354 - val_loss: 1.2418\n",
      "Epoch 84/100\n",
      "\u001b[1m3106/3106\u001b[0m \u001b[32m━━━━━━━━━━━━━━━━━━━━\u001b[0m\u001b[37m\u001b[0m \u001b[1m39s\u001b[0m 13ms/step - accuracy: 0.9703 - loss: 0.0625 - val_accuracy: 0.8349 - val_loss: 1.1966\n",
      "Epoch 85/100\n",
      "\u001b[1m3106/3106\u001b[0m \u001b[32m━━━━━━━━━━━━━━━━━━━━\u001b[0m\u001b[37m\u001b[0m \u001b[1m39s\u001b[0m 13ms/step - accuracy: 0.9706 - loss: 0.0637 - val_accuracy: 0.8329 - val_loss: 1.2229\n",
      "Epoch 86/100\n",
      "\u001b[1m3106/3106\u001b[0m \u001b[32m━━━━━━━━━━━━━━━━━━━━\u001b[0m\u001b[37m\u001b[0m \u001b[1m39s\u001b[0m 13ms/step - accuracy: 0.9696 - loss: 0.0640 - val_accuracy: 0.8354 - val_loss: 1.2630\n",
      "Epoch 87/100\n",
      "\u001b[1m3106/3106\u001b[0m \u001b[32m━━━━━━━━━━━━━━━━━━━━\u001b[0m\u001b[37m\u001b[0m \u001b[1m39s\u001b[0m 13ms/step - accuracy: 0.9698 - loss: 0.0643 - val_accuracy: 0.8333 - val_loss: 1.2400\n",
      "Epoch 88/100\n",
      "\u001b[1m3106/3106\u001b[0m \u001b[32m━━━━━━━━━━━━━━━━━━━━\u001b[0m\u001b[37m\u001b[0m \u001b[1m39s\u001b[0m 13ms/step - accuracy: 0.9705 - loss: 0.0633 - val_accuracy: 0.8324 - val_loss: 1.2803\n",
      "Epoch 89/100\n",
      "\u001b[1m3106/3106\u001b[0m \u001b[32m━━━━━━━━━━━━━━━━━━━━\u001b[0m\u001b[37m\u001b[0m \u001b[1m39s\u001b[0m 13ms/step - accuracy: 0.9711 - loss: 0.0621 - val_accuracy: 0.8340 - val_loss: 1.2363\n",
      "Epoch 90/100\n",
      "\u001b[1m3106/3106\u001b[0m \u001b[32m━━━━━━━━━━━━━━━━━━━━\u001b[0m\u001b[37m\u001b[0m \u001b[1m39s\u001b[0m 13ms/step - accuracy: 0.9701 - loss: 0.0632 - val_accuracy: 0.8310 - val_loss: 1.2331\n",
      "Epoch 91/100\n",
      "\u001b[1m3106/3106\u001b[0m \u001b[32m━━━━━━━━━━━━━━━━━━━━\u001b[0m\u001b[37m\u001b[0m \u001b[1m39s\u001b[0m 13ms/step - accuracy: 0.9711 - loss: 0.0602 - val_accuracy: 0.8308 - val_loss: 1.2776\n",
      "Epoch 92/100\n",
      "\u001b[1m3106/3106\u001b[0m \u001b[32m━━━━━━━━━━━━━━━━━━━━\u001b[0m\u001b[37m\u001b[0m \u001b[1m39s\u001b[0m 13ms/step - accuracy: 0.9709 - loss: 0.0614 - val_accuracy: 0.8312 - val_loss: 1.2370\n",
      "Epoch 93/100\n",
      "\u001b[1m3106/3106\u001b[0m \u001b[32m━━━━━━━━━━━━━━━━━━━━\u001b[0m\u001b[37m\u001b[0m \u001b[1m39s\u001b[0m 13ms/step - accuracy: 0.9707 - loss: 0.0633 - val_accuracy: 0.8311 - val_loss: 1.2726\n",
      "Epoch 94/100\n",
      "\u001b[1m3106/3106\u001b[0m \u001b[32m━━━━━━━━━━━━━━━━━━━━\u001b[0m\u001b[37m\u001b[0m \u001b[1m39s\u001b[0m 13ms/step - accuracy: 0.9714 - loss: 0.0619 - val_accuracy: 0.8311 - val_loss: 1.3065\n",
      "Epoch 95/100\n",
      "\u001b[1m3106/3106\u001b[0m \u001b[32m━━━━━━━━━━━━━━━━━━━━\u001b[0m\u001b[37m\u001b[0m \u001b[1m39s\u001b[0m 13ms/step - accuracy: 0.9724 - loss: 0.0588 - val_accuracy: 0.8338 - val_loss: 1.2627\n",
      "Epoch 96/100\n",
      "\u001b[1m3106/3106\u001b[0m \u001b[32m━━━━━━━━━━━━━━━━━━━━\u001b[0m\u001b[37m\u001b[0m \u001b[1m39s\u001b[0m 13ms/step - accuracy: 0.9716 - loss: 0.0596 - val_accuracy: 0.8308 - val_loss: 1.3893\n",
      "Epoch 97/100\n",
      "\u001b[1m3106/3106\u001b[0m \u001b[32m━━━━━━━━━━━━━━━━━━━━\u001b[0m\u001b[37m\u001b[0m \u001b[1m39s\u001b[0m 13ms/step - accuracy: 0.9726 - loss: 0.0594 - val_accuracy: 0.8331 - val_loss: 1.2818\n",
      "Epoch 98/100\n",
      "\u001b[1m3106/3106\u001b[0m \u001b[32m━━━━━━━━━━━━━━━━━━━━\u001b[0m\u001b[37m\u001b[0m \u001b[1m39s\u001b[0m 13ms/step - accuracy: 0.9726 - loss: 0.0578 - val_accuracy: 0.8323 - val_loss: 1.2668\n",
      "Epoch 99/100\n",
      "\u001b[1m3106/3106\u001b[0m \u001b[32m━━━━━━━━━━━━━━━━━━━━\u001b[0m\u001b[37m\u001b[0m \u001b[1m39s\u001b[0m 13ms/step - accuracy: 0.9716 - loss: 0.0606 - val_accuracy: 0.8347 - val_loss: 1.2774\n",
      "Epoch 100/100\n",
      "\u001b[1m3106/3106\u001b[0m \u001b[32m━━━━━━━━━━━━━━━━━━━━\u001b[0m\u001b[37m\u001b[0m \u001b[1m39s\u001b[0m 13ms/step - accuracy: 0.9715 - loss: 0.0611 - val_accuracy: 0.8328 - val_loss: 1.1856\n"
     ]
    }
   ],
   "source": [
    "history = model.fit(x_train_pad , y_train , epochs= 100 , validation_data= (x_test_pad, y_test) , batch_size= 32)"
   ]
  },
  {
   "cell_type": "markdown",
   "metadata": {},
   "source": [
    "### Validation"
   ]
  },
  {
   "cell_type": "code",
   "execution_count": 100,
   "metadata": {},
   "outputs": [
    {
     "data": {
      "image/png": "[encoded data removed]",
      "text/plain": [
       "<Figure size 640x480 with 1 Axes>"
      ]
     },
     "metadata": {},
     "output_type": "display_data"
    }
   ],
   "source": [
    "import matplotlib.pyplot as plt\n",
    "\n",
    "# Plot training history\n",
    "plt.plot(history.history['accuracy'], label='Train Loss')\n",
    "plt.plot(history.history['val_accuracy'], label='Val Loss')\n",
    "plt.legend()\n",
    "plt.show()"
   ]
  },
  {
   "cell_type": "markdown",
   "metadata": {},
   "source": [
    "### Usage"
   ]
  },
  {
   "cell_type": "code",
   "execution_count": 101,
   "metadata": {},
   "outputs": [],
   "source": [
    "def preprocess_input(text, tokenizer, max_length):\n",
    "    \"\"\"Process raw text into model-ready format\"\"\"\n",
    "    # 1. Apply your preprocessing function\n",
    "    processed_text = preprocess_text(text)  # Use the same function from earlier\n",
    "    \n",
    "    # 2. Tokenize using the trained tokenizer\n",
    "    sequence = tokenizer.texts_to_sequences([processed_text])\n",
    "    \n",
    "    # 3. Pad/truncate to match model's expected length\n",
    "    padded = pad_sequences(sequence, maxlen=max_length, padding='post', truncating='post')\n",
    "    \n",
    "    return padded"
   ]
  },
  {
   "cell_type": "code",
   "execution_count": 102,
   "metadata": {},
   "outputs": [
    {
     "name": "stdout",
     "output_type": "stream",
     "text": [
      "\u001b[1m1/1\u001b[0m \u001b[32m━━━━━━━━━━━━━━━━━━━━\u001b[0m\u001b[37m\u001b[0m \u001b[1m0s\u001b[0m 203ms/step\n",
      "Chaos at Delhi airport, over 350 flights delayed due to congestion: Negative (0.00)\n",
      "After India Outreach, China Calls On Europe To Resist American 'Bullying': Negative (0.00)\n"
     ]
    }
   ],
   "source": [
    "texts = [\"Chaos at Delhi airport, over 350 flights delayed due to congestion\", \"After India Outreach, China Calls On Europe To Resist American 'Bullying'\"]\n",
    "processed_batch = [preprocess_input(t, tokenizer, max_length) for t in texts]\n",
    "predictions = model.predict(np.vstack(processed_batch))\n",
    "\n",
    "for text, pred in zip(texts, predictions):\n",
    "    print(f\"{text}: {'Positive' if pred > 0.5 else 'Negative'} ({pred[0]:.2f})\")"
   ]
  }
 ],
 "metadata": {
  "kernelspec": {
   "display_name": "base",
   "language": "python",
   "name": "python3"
  },
  "language_info": {
   "codemirror_mode": {
    "name": "ipython",
    "version": 3
   },
   "file_extension": ".py",
   "mimetype": "text/x-python",
   "name": "python",
   "nbconvert_exporter": "python",
   "pygments_lexer": "ipython3",
   "version": "3.12.4"
  }
 },
 "nbformat": 4,
 "nbformat_minor": 2
}
